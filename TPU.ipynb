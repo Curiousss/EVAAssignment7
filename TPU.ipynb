{
  "nbformat": 4,
  "nbformat_minor": 0,
  "metadata": {
    "colab": {
      "name": "TPU.ipynb",
      "version": "0.3.2",
      "provenance": [],
      "collapsed_sections": [],
      "include_colab_link": true
    },
    "kernelspec": {
      "name": "python3",
      "display_name": "Python 3"
    },
    "accelerator": "TPU"
  },
  "cells": [
    {
      "cell_type": "markdown",
      "metadata": {
        "id": "view-in-github",
        "colab_type": "text"
      },
      "source": [
        "<a href=\"https://colab.research.google.com/github/Curiousss/EVAAssignment7/blob/master/TPU.ipynb\" target=\"_parent\"><img src=\"https://colab.research.google.com/assets/colab-badge.svg\" alt=\"Open In Colab\"/></a>"
      ]
    },
    {
      "cell_type": "code",
      "metadata": {
        "id": "8wNNk05WittE",
        "colab_type": "code",
        "colab": {
          "base_uri": "https://localhost:8080/",
          "height": 254
        },
        "outputId": "f5b50370-4021-444b-9207-8d698316d367"
      },
      "source": [
        "import tensorflow as tf\n",
        "import os\n",
        "import pprint # for pretty printing our device stats\n",
        "\n",
        "if 'COLAB_TPU_ADDR' not in os.environ:\n",
        "    print('ERROR: Not connected to a TPU runtime; please see the first cell in this notebook for instructions!')\n",
        "else:\n",
        "    tpu_address = 'grpc://' + os.environ['COLAB_TPU_ADDR']\n",
        "    print ('TPU address is', tpu_address)\n",
        "\n",
        "    with tf.Session(tpu_address) as session:\n",
        "      devices = session.list_devices()\n",
        "\n",
        "    print('TPU devices:')\n",
        "    pprint.pprint(devices)"
      ],
      "execution_count": 19,
      "outputs": [
        {
          "output_type": "stream",
          "text": [
            "TPU address is grpc://10.94.244.122:8470\n",
            "TPU devices:\n",
            "[_DeviceAttributes(/job:tpu_worker/replica:0/task:0/device:CPU:0, CPU, -1, 10719749730960052620),\n",
            " _DeviceAttributes(/job:tpu_worker/replica:0/task:0/device:XLA_CPU:0, XLA_CPU, 17179869184, 9751140309556774338),\n",
            " _DeviceAttributes(/job:tpu_worker/replica:0/task:0/device:TPU:0, TPU, 17179869184, 3630012588680747504),\n",
            " _DeviceAttributes(/job:tpu_worker/replica:0/task:0/device:TPU:1, TPU, 17179869184, 10199871570562237856),\n",
            " _DeviceAttributes(/job:tpu_worker/replica:0/task:0/device:TPU:2, TPU, 17179869184, 503829590128109815),\n",
            " _DeviceAttributes(/job:tpu_worker/replica:0/task:0/device:TPU:3, TPU, 17179869184, 15127912793016231470),\n",
            " _DeviceAttributes(/job:tpu_worker/replica:0/task:0/device:TPU:4, TPU, 17179869184, 11724721852201664558),\n",
            " _DeviceAttributes(/job:tpu_worker/replica:0/task:0/device:TPU:5, TPU, 17179869184, 9052286802375921412),\n",
            " _DeviceAttributes(/job:tpu_worker/replica:0/task:0/device:TPU:6, TPU, 17179869184, 2113984319319755219),\n",
            " _DeviceAttributes(/job:tpu_worker/replica:0/task:0/device:TPU:7, TPU, 17179869184, 14396290398257494682),\n",
            " _DeviceAttributes(/job:tpu_worker/replica:0/task:0/device:TPU_SYSTEM:0, TPU_SYSTEM, 8589934592, 9445289131195201311)]\n"
          ],
          "name": "stdout"
        }
      ]
    },
    {
      "cell_type": "code",
      "metadata": {
        "id": "iM5PGcFGjZYq",
        "colab_type": "code",
        "colab": {
          "base_uri": "https://localhost:8080/",
          "height": 55
        },
        "outputId": "62d742d6-95e4-4c55-8f6c-e06784653380"
      },
      "source": [
        "resolver = tf.contrib.cluster_resolver.TPUClusterResolver(tpu='grpc://' + os.environ['COLAB_TPU_ADDR'])\n",
        "tf.contrib.distribute.initialize_tpu_system(resolver)\n",
        "strategy = tf.contrib.distribute.TPUStrategy(resolver)"
      ],
      "execution_count": 20,
      "outputs": [
        {
          "output_type": "stream",
          "text": [
            "W0729 10:15:01.133288 140278073063296 tpu_strategy_util.py:56] TPU system %s has already been initialized. Reinitializing the TPU can cause previously created variables on TPU to be lost.\n"
          ],
          "name": "stderr"
        }
      ]
    },
    {
      "cell_type": "code",
      "metadata": {
        "id": "753CT6Dlks35",
        "colab_type": "code",
        "colab": {
          "base_uri": "https://localhost:8080/",
          "height": 54
        },
        "outputId": "5a8242e7-570a-4022-c066-f692b573a8d4"
      },
      "source": [
        "import numpy as np\n",
        "from tensorflow.keras.datasets import mnist\n",
        "from tensorflow.keras.utils import to_categorical\n",
        "\n",
        "(x_train, y_train), (x_test, y_test) = mnist.load_data()\n",
        "\n",
        "# preprocessing the dataset\n",
        "x_train = x_train.astype('float32')\n",
        "x_test = x_test.astype('float32')\n",
        "x_train /= 255\n",
        "x_test /= 255\n",
        "y_train = to_categorical(y_train, 10)\n",
        "y_test = to_categorical(y_test, 10)\n",
        "print (x_train.shape, y_train.shape)\n",
        "print (x_test.shape, y_test.shape)"
      ],
      "execution_count": 25,
      "outputs": [
        {
          "output_type": "stream",
          "text": [
            "(60000, 28, 28) (60000, 10)\n",
            "(10000, 28, 28) (10000, 10)\n"
          ],
          "name": "stdout"
        }
      ]
    },
    {
      "cell_type": "code",
      "metadata": {
        "id": "8xA_QVITRXD1",
        "colab_type": "code",
        "colab": {}
      },
      "source": [
        "x_train = x_train.reshape(x_train.shape[0], 28, 28,1)\n",
        "x_test = x_test.reshape(x_test.shape[0], 28, 28,1)"
      ],
      "execution_count": 0,
      "outputs": []
    },
    {
      "cell_type": "code",
      "metadata": {
        "id": "hVyLmr5ZlGpG",
        "colab_type": "code",
        "colab": {
          "base_uri": "https://localhost:8080/",
          "height": 35
        },
        "outputId": "30917a81-6805-435b-9e2b-fa219c15fef5"
      },
      "source": [
        ""
      ],
      "execution_count": 4,
      "outputs": [
        {
          "output_type": "execute_result",
          "data": {
            "text/plain": [
              "(60000, 28, 28)"
            ]
          },
          "metadata": {
            "tags": []
          },
          "execution_count": 4
        }
      ]
    },
    {
      "cell_type": "code",
      "metadata": {
        "id": "tW9H_cm-jtiW",
        "colab_type": "code",
        "colab": {}
      },
      "source": [
        "with strategy.scope():\n",
        "  \"\"\"\n",
        "\tNote: This model can be whatever you want it to be.\n",
        "\tHere, I'm building a simple fully-connected network using \n",
        "\tour distributed training strategy. \n",
        "\tThis essentailly takes our model and makes it \n",
        "\tcompatible to train on a TPU.\n",
        "\t\"\"\"\n",
        "  model = tf.keras.models.Sequential()\n",
        "  model.add(tf.keras.layers.Dense(512, input_shape=(784,1), activation='relu'))\n",
        "  model.add(tf.keras.layers.Dense(256, activation='relu'))\n",
        "  model.add(tf.keras.layers.Dense(128, activation='relu'))\n",
        "  model.add(tf.keras.layers.Dense(64, activation='relu'))\n",
        "  model.add(tf.keras.layers.Dense(10, activation='softmax'))\n",
        "    \n",
        "\t# compiling the model using the RMSProp optimizer \n",
        "\t# and Sparse Categorical Crossentropy loss\n",
        "  model.compile(\n",
        "        optimizer=tf.train.RMSPropOptimizer(learning_rate=1e-2),\n",
        "        loss=tf.keras.losses.sparse_categorical_crossentropy,\n",
        "        metrics=['sparse_categorical_accuracy']\n",
        "  )\n",
        "    \n",
        "  model.summary()"
      ],
      "execution_count": 0,
      "outputs": []
    },
    {
      "cell_type": "code",
      "metadata": {
        "id": "nM4ofoV9N_vc",
        "colab_type": "code",
        "colab": {
          "base_uri": "https://localhost:8080/",
          "height": 1000
        },
        "outputId": "c29b3cf0-218e-4cb0-fc05-5e4a2ada30d9"
      },
      "source": [
        "#from tf.keras.layers import Convolution2D, MaxPooling2D, Activation, BatchNormalization, Flatten\n",
        "with strategy.scope():\n",
        "\n",
        "  dropout=0.15\n",
        "\n",
        "  model = tf.keras.models.Sequential()\n",
        "\n",
        "\n",
        "  model.add(tf.keras.layers.Convolution2D(10, 3, activation='relu', input_shape=(28,28,1))) #26\n",
        "  model.add(tf.keras.layers.BatchNormalization())\n",
        "  model.add(tf.keras.layers.Dropout(dropout))\n",
        "\n",
        "  model.add(tf.keras.layers.Convolution2D(16, 3, activation='relu')) #24\n",
        "  model.add(tf.keras.layers.BatchNormalization())\n",
        "  model.add(tf.keras.layers.Dropout(dropout))\n",
        "\n",
        "  model.add(tf.keras.layers.Convolution2D(16, 3, activation='relu')) #22\n",
        "  model.add(tf.keras.layers.BatchNormalization())\n",
        "  model.add(tf.keras.layers.Dropout(dropout))\n",
        "\n",
        "  # Bottleneck layer\n",
        "  model.add(tf.keras.layers.MaxPooling2D()) #11\n",
        "  model.add(tf.keras.layers.Convolution2D(10, 1, activation='relu')) #11\n",
        "  model.add(tf.keras.layers.BatchNormalization())\n",
        "  model.add(tf.keras.layers.Dropout(dropout))\n",
        "\n",
        "  model.add(tf.keras.layers.Convolution2D(16, 3, activation='relu')) #9\n",
        "  model.add(tf.keras.layers.BatchNormalization())\n",
        "  model.add(tf.keras.layers.Dropout(dropout))\n",
        "\n",
        "  model.add(tf.keras.layers.Convolution2D(16, 3, activation='relu')) #7\n",
        "  model.add(tf.keras.layers.BatchNormalization())\n",
        "  model.add(tf.keras.layers.Dropout(dropout))\n",
        "\n",
        "  # 1x1 Conv\n",
        "  model.add(tf.keras.layers.Convolution2D(10, 1, activation='relu')) #7\n",
        "  model.add(tf.keras.layers.BatchNormalization())\n",
        "  model.add(tf.keras.layers.Dropout(dropout))\n",
        "\n",
        "  model.add(tf.keras.layers.Convolution2D(10, 7))\n",
        "\n",
        "  model.add(tf.keras.layers.Flatten())\n",
        "  model.add(tf.keras.layers.Activation('softmax'))\n",
        "  model.summary()\n",
        "  model.compile(\n",
        "        optimizer=tf.train.AdamOptimizer(learning_rate=1e-2),\n",
        "        loss=tf.keras.losses.categorical_crossentropy,\n",
        "        metrics=['accuracy'])\n"
      ],
      "execution_count": 38,
      "outputs": [
        {
          "output_type": "stream",
          "text": [
            "Model: \"sequential_14\"\n",
            "_________________________________________________________________\n",
            "Layer (type)                 Output Shape              Param #   \n",
            "=================================================================\n",
            "conv2d_40 (Conv2D)           (None, 26, 26, 10)        100       \n",
            "_________________________________________________________________\n",
            "batch_normalization_34 (Batc (None, 26, 26, 10)        40        \n",
            "_________________________________________________________________\n",
            "dropout_34 (Dropout)         (None, 26, 26, 10)        0         \n",
            "_________________________________________________________________\n",
            "conv2d_41 (Conv2D)           (None, 24, 24, 16)        1456      \n",
            "_________________________________________________________________\n",
            "batch_normalization_35 (Batc (None, 24, 24, 16)        64        \n",
            "_________________________________________________________________\n",
            "dropout_35 (Dropout)         (None, 24, 24, 16)        0         \n",
            "_________________________________________________________________\n",
            "conv2d_42 (Conv2D)           (None, 22, 22, 16)        2320      \n",
            "_________________________________________________________________\n",
            "batch_normalization_36 (Batc (None, 22, 22, 16)        64        \n",
            "_________________________________________________________________\n",
            "dropout_36 (Dropout)         (None, 22, 22, 16)        0         \n",
            "_________________________________________________________________\n",
            "max_pooling2d_6 (MaxPooling2 (None, 11, 11, 16)        0         \n",
            "_________________________________________________________________\n",
            "conv2d_43 (Conv2D)           (None, 11, 11, 10)        170       \n",
            "_________________________________________________________________\n",
            "batch_normalization_37 (Batc (None, 11, 11, 10)        40        \n",
            "_________________________________________________________________\n",
            "dropout_37 (Dropout)         (None, 11, 11, 10)        0         \n",
            "_________________________________________________________________\n",
            "conv2d_44 (Conv2D)           (None, 9, 9, 16)          1456      \n",
            "_________________________________________________________________\n",
            "batch_normalization_38 (Batc (None, 9, 9, 16)          64        \n",
            "_________________________________________________________________\n",
            "dropout_38 (Dropout)         (None, 9, 9, 16)          0         \n",
            "_________________________________________________________________\n",
            "conv2d_45 (Conv2D)           (None, 7, 7, 16)          2320      \n",
            "_________________________________________________________________\n",
            "batch_normalization_39 (Batc (None, 7, 7, 16)          64        \n",
            "_________________________________________________________________\n",
            "dropout_39 (Dropout)         (None, 7, 7, 16)          0         \n",
            "_________________________________________________________________\n",
            "conv2d_46 (Conv2D)           (None, 7, 7, 10)          170       \n",
            "_________________________________________________________________\n",
            "batch_normalization_40 (Batc (None, 7, 7, 10)          40        \n",
            "_________________________________________________________________\n",
            "dropout_40 (Dropout)         (None, 7, 7, 10)          0         \n",
            "_________________________________________________________________\n",
            "conv2d_47 (Conv2D)           (None, 1, 1, 10)          4910      \n",
            "_________________________________________________________________\n",
            "flatten_3 (Flatten)          (None, 10)                0         \n",
            "_________________________________________________________________\n",
            "activation_3 (Activation)    (None, 10)                0         \n",
            "=================================================================\n",
            "Total params: 13,278\n",
            "Trainable params: 13,090\n",
            "Non-trainable params: 188\n",
            "_________________________________________________________________\n"
          ],
          "name": "stdout"
        }
      ]
    },
    {
      "cell_type": "code",
      "metadata": {
        "id": "2HkvdGgYkGRG",
        "colab_type": "code",
        "colab": {
          "base_uri": "https://localhost:8080/",
          "height": 1000
        },
        "outputId": "475c3566-94e7-4416-f568-c30be629b28f"
      },
      "source": [
        "history = model.fit(x_train, \n",
        "\t\t                y_train,\n",
        "                    epochs=20,\n",
        "                    validation_data=(x_test, y_test),\n",
        "                    steps_per_epoch=50,\n",
        "                    verbose=1\n",
        "                    )\n",
        "\n",
        "model.save_weights('./mnist_model.h5', overwrite=True)"
      ],
      "execution_count": 41,
      "outputs": [
        {
          "output_type": "stream",
          "text": [
            "Epoch 1/20\n",
            "9/9 [==============================] - 15s 2s/step\n",
            "9/9 [==============================] - 15s 2s/step\n",
            "50/50 [==============================] - 30s 601ms/step - loss: 0.0249 - acc: 0.9914 - val_loss: 0.0176 - val_acc: 0.9934\n",
            "Epoch 2/20\n",
            "9/9 [==============================] - 16s 2s/step\n",
            "9/9 [==============================] - 16s 2s/step\n",
            "50/50 [==============================] - 27s 538ms/step - loss: 0.0236 - acc: 0.9925 - val_loss: 0.0232 - val_acc: 0.9914\n",
            "Epoch 3/20\n",
            "9/9 [==============================] - 17s 2s/step\n",
            "9/9 [==============================] - 17s 2s/step\n",
            "50/50 [==============================] - 29s 580ms/step - loss: 0.0234 - acc: 0.9924 - val_loss: 0.0216 - val_acc: 0.9925\n",
            "Epoch 4/20\n",
            "9/9 [==============================] - 18s 2s/step\n",
            "9/9 [==============================] - 18s 2s/step\n",
            "50/50 [==============================] - 30s 599ms/step - loss: 0.0235 - acc: 0.9922 - val_loss: 0.0165 - val_acc: 0.9937\n",
            "Epoch 5/20\n",
            "9/9 [==============================] - 19s 2s/step\n",
            "9/9 [==============================] - 19s 2s/step\n",
            "50/50 [==============================] - 32s 634ms/step - loss: 0.0238 - acc: 0.9921 - val_loss: 0.0238 - val_acc: 0.9921\n",
            "Epoch 6/20\n",
            "9/9 [==============================] - 20s 2s/step\n",
            "9/9 [==============================] - 20s 2s/step\n",
            "50/50 [==============================] - 33s 664ms/step - loss: 0.0243 - acc: 0.9919 - val_loss: 0.0184 - val_acc: 0.9932\n",
            "Epoch 7/20\n",
            "9/9 [==============================] - 20s 2s/step\n",
            "9/9 [==============================] - 20s 2s/step\n",
            "50/50 [==============================] - 35s 702ms/step - loss: 0.0241 - acc: 0.9922 - val_loss: 0.0274 - val_acc: 0.9917\n",
            "Epoch 8/20\n",
            "9/9 [==============================] - 22s 2s/step\n",
            "9/9 [==============================] - 22s 2s/step\n",
            "50/50 [==============================] - 36s 721ms/step - loss: 0.0236 - acc: 0.9922 - val_loss: 0.0161 - val_acc: 0.9942\n",
            "Epoch 9/20\n",
            "9/9 [==============================] - 23s 3s/step\n",
            "9/9 [==============================] - 23s 3s/step\n",
            "50/50 [==============================] - 38s 756ms/step - loss: 0.0222 - acc: 0.9927 - val_loss: 0.0184 - val_acc: 0.9946\n",
            "Epoch 10/20\n",
            "9/9 [==============================] - 23s 3s/step\n",
            "9/9 [==============================] - 23s 3s/step\n",
            "50/50 [==============================] - 39s 776ms/step - loss: 0.0232 - acc: 0.9922 - val_loss: 0.0221 - val_acc: 0.9923\n",
            "Epoch 11/20\n",
            "9/9 [==============================] - 25s 3s/step\n",
            "9/9 [==============================] - 25s 3s/step\n",
            "50/50 [==============================] - 41s 814ms/step - loss: 0.0224 - acc: 0.9924 - val_loss: 0.0157 - val_acc: 0.9946\n",
            "Epoch 12/20\n",
            "9/9 [==============================] - 25s 3s/step\n",
            "9/9 [==============================] - 25s 3s/step\n",
            "50/50 [==============================] - 42s 846ms/step - loss: 0.0224 - acc: 0.9923 - val_loss: 0.0210 - val_acc: 0.9935\n",
            "Epoch 13/20\n",
            "9/9 [==============================] - 26s 3s/step\n",
            "9/9 [==============================] - 26s 3s/step\n",
            "50/50 [==============================] - 43s 864ms/step - loss: 0.0222 - acc: 0.9930 - val_loss: 0.0230 - val_acc: 0.9930\n",
            "Epoch 14/20\n",
            "9/9 [==============================] - 27s 3s/step\n",
            "9/9 [==============================] - 27s 3s/step\n",
            "50/50 [==============================] - 45s 899ms/step - loss: 0.0230 - acc: 0.9924 - val_loss: 0.0182 - val_acc: 0.9939\n",
            "Epoch 15/20\n",
            "9/9 [==============================] - 28s 3s/step\n",
            "9/9 [==============================] - 28s 3s/step\n",
            "50/50 [==============================] - 47s 950ms/step - loss: 0.0227 - acc: 0.9922 - val_loss: 0.0201 - val_acc: 0.9924\n",
            "Epoch 16/20\n",
            "9/9 [==============================] - 29s 3s/step\n",
            "9/9 [==============================] - 29s 3s/step\n",
            "50/50 [==============================] - 50s 991ms/step - loss: 0.0227 - acc: 0.9925 - val_loss: 0.0237 - val_acc: 0.9911\n",
            "Epoch 17/20\n",
            "9/9 [==============================] - 31s 3s/step\n",
            "9/9 [==============================] - 31s 3s/step\n",
            "50/50 [==============================] - 53s 1s/step - loss: 0.0206 - acc: 0.9928 - val_loss: 0.0243 - val_acc: 0.9924\n",
            "Epoch 18/20\n",
            "9/9 [==============================] - 32s 4s/step\n",
            "9/9 [==============================] - 32s 4s/step\n",
            "50/50 [==============================] - 53s 1s/step - loss: 0.0228 - acc: 0.9925 - val_loss: 0.0190 - val_acc: 0.9939\n",
            "Epoch 19/20\n",
            "9/9 [==============================] - 33s 4s/step\n",
            "9/9 [==============================] - 33s 4s/step\n",
            "50/50 [==============================] - 55s 1s/step - loss: 0.0221 - acc: 0.9927 - val_loss: 0.0213 - val_acc: 0.9923\n",
            "Epoch 20/20\n",
            "9/9 [==============================] - 34s 4s/step\n",
            "9/9 [==============================] - 34s 4s/step\n",
            "50/50 [==============================] - 57s 1s/step - loss: 0.0238 - acc: 0.9921 - val_loss: 0.0186 - val_acc: 0.9943\n"
          ],
          "name": "stdout"
        }
      ]
    }
  ]
}