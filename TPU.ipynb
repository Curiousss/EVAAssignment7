{
  "nbformat": 4,
  "nbformat_minor": 0,
  "metadata": {
    "colab": {
      "name": "TPU.ipynb",
      "version": "0.3.2",
      "provenance": [],
      "collapsed_sections": [],
      "include_colab_link": true
    },
    "kernelspec": {
      "name": "python3",
      "display_name": "Python 3"
    },
    "accelerator": "TPU"
  },
  "cells": [
    {
      "cell_type": "markdown",
      "metadata": {
        "id": "view-in-github",
        "colab_type": "text"
      },
      "source": [
        "<a href=\"https://colab.research.google.com/github/Curiousss/EVAAssignment7/blob/master/TPU.ipynb\" target=\"_parent\"><img src=\"https://colab.research.google.com/assets/colab-badge.svg\" alt=\"Open In Colab\"/></a>"
      ]
    },
    {
      "cell_type": "code",
      "metadata": {
        "id": "8wNNk05WittE",
        "colab_type": "code",
        "colab": {
          "base_uri": "https://localhost:8080/",
          "height": 254
        },
        "outputId": "2c766461-eb8d-4cdb-c649-ecfb8faa9d7f"
      },
      "source": [
        "import tensorflow as tf\n",
        "import os\n",
        "import pprint # for pretty printing our device stats\n",
        "\n",
        "if 'COLAB_TPU_ADDR' not in os.environ:\n",
        "    print('ERROR: Not connected to a TPU runtime; please see the first cell in this notebook for instructions!')\n",
        "else:\n",
        "    tpu_address = 'grpc://' + os.environ['COLAB_TPU_ADDR']\n",
        "    print ('TPU address is', tpu_address)\n",
        "\n",
        "    with tf.Session(tpu_address) as session:\n",
        "      devices = session.list_devices()\n",
        "\n",
        "    print('TPU devices:')\n",
        "    pprint.pprint(devices)"
      ],
      "execution_count": 1,
      "outputs": [
        {
          "output_type": "stream",
          "text": [
            "TPU address is grpc://10.94.244.122:8470\n",
            "TPU devices:\n",
            "[_DeviceAttributes(/job:tpu_worker/replica:0/task:0/device:CPU:0, CPU, -1, 10719749730960052620),\n",
            " _DeviceAttributes(/job:tpu_worker/replica:0/task:0/device:XLA_CPU:0, XLA_CPU, 17179869184, 9751140309556774338),\n",
            " _DeviceAttributes(/job:tpu_worker/replica:0/task:0/device:TPU:0, TPU, 17179869184, 3630012588680747504),\n",
            " _DeviceAttributes(/job:tpu_worker/replica:0/task:0/device:TPU:1, TPU, 17179869184, 10199871570562237856),\n",
            " _DeviceAttributes(/job:tpu_worker/replica:0/task:0/device:TPU:2, TPU, 17179869184, 503829590128109815),\n",
            " _DeviceAttributes(/job:tpu_worker/replica:0/task:0/device:TPU:3, TPU, 17179869184, 15127912793016231470),\n",
            " _DeviceAttributes(/job:tpu_worker/replica:0/task:0/device:TPU:4, TPU, 17179869184, 11724721852201664558),\n",
            " _DeviceAttributes(/job:tpu_worker/replica:0/task:0/device:TPU:5, TPU, 17179869184, 9052286802375921412),\n",
            " _DeviceAttributes(/job:tpu_worker/replica:0/task:0/device:TPU:6, TPU, 17179869184, 2113984319319755219),\n",
            " _DeviceAttributes(/job:tpu_worker/replica:0/task:0/device:TPU:7, TPU, 17179869184, 14396290398257494682),\n",
            " _DeviceAttributes(/job:tpu_worker/replica:0/task:0/device:TPU_SYSTEM:0, TPU_SYSTEM, 8589934592, 9445289131195201311)]\n"
          ],
          "name": "stdout"
        }
      ]
    },
    {
      "cell_type": "code",
      "metadata": {
        "id": "iM5PGcFGjZYq",
        "colab_type": "code",
        "colab": {
          "base_uri": "https://localhost:8080/",
          "height": 181
        },
        "outputId": "15c1f2b7-2fa7-41c4-fe5f-8aac3b46391f"
      },
      "source": [
        "resolver = tf.contrib.cluster_resolver.TPUClusterResolver(tpu='grpc://' + os.environ['COLAB_TPU_ADDR'])\n",
        "tf.contrib.distribute.initialize_tpu_system(resolver)\n",
        "strategy = tf.contrib.distribute.TPUStrategy(resolver)"
      ],
      "execution_count": 2,
      "outputs": [
        {
          "output_type": "stream",
          "text": [
            "WARNING: Logging before flag parsing goes to stderr.\n",
            "W0729 12:12:06.497432 140476372449152 lazy_loader.py:50] \n",
            "The TensorFlow contrib module will not be included in TensorFlow 2.0.\n",
            "For more information, please see:\n",
            "  * https://github.com/tensorflow/community/blob/master/rfcs/20180907-contrib-sunset.md\n",
            "  * https://github.com/tensorflow/addons\n",
            "  * https://github.com/tensorflow/io (for I/O related ops)\n",
            "If you depend on functionality not listed there, please file an issue.\n",
            "\n"
          ],
          "name": "stderr"
        }
      ]
    },
    {
      "cell_type": "code",
      "metadata": {
        "id": "753CT6Dlks35",
        "colab_type": "code",
        "colab": {
          "base_uri": "https://localhost:8080/",
          "height": 54
        },
        "outputId": "55b582a6-0963-4e5e-a2f8-28f46c0b3844"
      },
      "source": [
        "import numpy as np\n",
        "from tensorflow.keras.datasets import mnist\n",
        "from tensorflow.keras.utils import to_categorical\n",
        "\n",
        "(x_train, y_train), (x_test, y_test) = mnist.load_data()\n",
        "\n",
        "# preprocessing the dataset\n",
        "x_train = x_train.astype('float32')\n",
        "x_test = x_test.astype('float32')\n",
        "x_train /= 255\n",
        "x_test /= 255\n",
        "y_train = to_categorical(y_train, 10)\n",
        "y_test = to_categorical(y_test, 10)\n",
        "print (x_train.shape, y_train.shape)\n",
        "print (x_test.shape, y_test.shape)"
      ],
      "execution_count": 3,
      "outputs": [
        {
          "output_type": "stream",
          "text": [
            "(60000, 28, 28) (60000, 10)\n",
            "(10000, 28, 28) (10000, 10)\n"
          ],
          "name": "stdout"
        }
      ]
    },
    {
      "cell_type": "code",
      "metadata": {
        "id": "8xA_QVITRXD1",
        "colab_type": "code",
        "colab": {}
      },
      "source": [
        "x_train = x_train.reshape(x_train.shape[0], 28, 28,1)\n",
        "x_test = x_test.reshape(x_test.shape[0], 28, 28,1)"
      ],
      "execution_count": 0,
      "outputs": []
    },
    {
      "cell_type": "code",
      "metadata": {
        "id": "hVyLmr5ZlGpG",
        "colab_type": "code",
        "colab": {}
      },
      "source": [
        ""
      ],
      "execution_count": 0,
      "outputs": []
    },
    {
      "cell_type": "code",
      "metadata": {
        "id": "nM4ofoV9N_vc",
        "colab_type": "code",
        "colab": {
          "base_uri": "https://localhost:8080/",
          "height": 1000
        },
        "outputId": "73297911-d50b-41fd-9d27-91c27a1fbcd9"
      },
      "source": [
        "#from tf.keras.layers import Convolution2D, MaxPooling2D, Activation, BatchNormalization, Flatten\n",
        "with strategy.scope():\n",
        "\n",
        "  dropout=0.15\n",
        "\n",
        "  model = tf.keras.models.Sequential()\n",
        "\n",
        "\n",
        "  model.add(tf.keras.layers.Convolution2D(10, 3, activation='relu', input_shape=(28,28,1))) #26\n",
        "  model.add(tf.keras.layers.BatchNormalization())\n",
        "  model.add(tf.keras.layers.Dropout(dropout))\n",
        "\n",
        "  model.add(tf.keras.layers.Convolution2D(16, 3, activation='relu')) #24\n",
        "  model.add(tf.keras.layers.BatchNormalization())\n",
        "  model.add(tf.keras.layers.Dropout(dropout))\n",
        "\n",
        "  model.add(tf.keras.layers.Convolution2D(16, 3, activation='relu')) #22\n",
        "  model.add(tf.keras.layers.BatchNormalization())\n",
        "  model.add(tf.keras.layers.Dropout(dropout))\n",
        "\n",
        "  # Bottleneck layer\n",
        "  model.add(tf.keras.layers.MaxPooling2D()) #11\n",
        "  model.add(tf.keras.layers.Convolution2D(10, 1, activation='relu')) #11\n",
        "  model.add(tf.keras.layers.BatchNormalization())\n",
        "  model.add(tf.keras.layers.Dropout(dropout))\n",
        "\n",
        "  model.add(tf.keras.layers.Convolution2D(16, 3, activation='relu')) #9\n",
        "  model.add(tf.keras.layers.BatchNormalization())\n",
        "  model.add(tf.keras.layers.Dropout(dropout))\n",
        "\n",
        "  model.add(tf.keras.layers.Convolution2D(16, 3, activation='relu')) #7\n",
        "  model.add(tf.keras.layers.BatchNormalization())\n",
        "  model.add(tf.keras.layers.Dropout(dropout))\n",
        "\n",
        "  # 1x1 Conv\n",
        "  model.add(tf.keras.layers.Convolution2D(10, 1, activation='relu')) #7\n",
        "  model.add(tf.keras.layers.BatchNormalization())\n",
        "  model.add(tf.keras.layers.Dropout(dropout))\n",
        "\n",
        "  model.add(tf.keras.layers.Convolution2D(10, 7))\n",
        "\n",
        "  model.add(tf.keras.layers.Flatten())\n",
        "  model.add(tf.keras.layers.Activation('softmax'))\n",
        "  model.summary()\n",
        "  model.compile(\n",
        "        optimizer=tf.train.AdamOptimizer(learning_rate=1e-2),\n",
        "        loss=tf.keras.losses.categorical_crossentropy,\n",
        "        metrics=['accuracy'])\n"
      ],
      "execution_count": 5,
      "outputs": [
        {
          "output_type": "stream",
          "text": [
            "W0729 12:12:19.660348 140476372449152 deprecation.py:506] From /usr/local/lib/python3.6/dist-packages/tensorflow/python/ops/init_ops.py:1251: calling VarianceScaling.__init__ (from tensorflow.python.ops.init_ops) with dtype is deprecated and will be removed in a future version.\n",
            "Instructions for updating:\n",
            "Call initializer instance with the dtype argument instead of passing it to the constructor\n"
          ],
          "name": "stderr"
        },
        {
          "output_type": "stream",
          "text": [
            "Model: \"sequential\"\n",
            "_________________________________________________________________\n",
            "Layer (type)                 Output Shape              Param #   \n",
            "=================================================================\n",
            "conv2d (Conv2D)              (None, 26, 26, 10)        100       \n",
            "_________________________________________________________________\n",
            "batch_normalization (BatchNo (None, 26, 26, 10)        40        \n",
            "_________________________________________________________________\n",
            "dropout (Dropout)            (None, 26, 26, 10)        0         \n",
            "_________________________________________________________________\n",
            "conv2d_1 (Conv2D)            (None, 24, 24, 16)        1456      \n",
            "_________________________________________________________________\n",
            "batch_normalization_1 (Batch (None, 24, 24, 16)        64        \n",
            "_________________________________________________________________\n",
            "dropout_1 (Dropout)          (None, 24, 24, 16)        0         \n",
            "_________________________________________________________________\n",
            "conv2d_2 (Conv2D)            (None, 22, 22, 16)        2320      \n",
            "_________________________________________________________________\n",
            "batch_normalization_2 (Batch (None, 22, 22, 16)        64        \n",
            "_________________________________________________________________\n",
            "dropout_2 (Dropout)          (None, 22, 22, 16)        0         \n",
            "_________________________________________________________________\n",
            "max_pooling2d (MaxPooling2D) (None, 11, 11, 16)        0         \n",
            "_________________________________________________________________\n",
            "conv2d_3 (Conv2D)            (None, 11, 11, 10)        170       \n",
            "_________________________________________________________________\n",
            "batch_normalization_3 (Batch (None, 11, 11, 10)        40        \n",
            "_________________________________________________________________\n",
            "dropout_3 (Dropout)          (None, 11, 11, 10)        0         \n",
            "_________________________________________________________________\n",
            "conv2d_4 (Conv2D)            (None, 9, 9, 16)          1456      \n",
            "_________________________________________________________________\n",
            "batch_normalization_4 (Batch (None, 9, 9, 16)          64        \n",
            "_________________________________________________________________\n",
            "dropout_4 (Dropout)          (None, 9, 9, 16)          0         \n",
            "_________________________________________________________________\n",
            "conv2d_5 (Conv2D)            (None, 7, 7, 16)          2320      \n",
            "_________________________________________________________________\n",
            "batch_normalization_5 (Batch (None, 7, 7, 16)          64        \n",
            "_________________________________________________________________\n",
            "dropout_5 (Dropout)          (None, 7, 7, 16)          0         \n",
            "_________________________________________________________________\n",
            "conv2d_6 (Conv2D)            (None, 7, 7, 10)          170       \n",
            "_________________________________________________________________\n",
            "batch_normalization_6 (Batch (None, 7, 7, 10)          40        \n",
            "_________________________________________________________________\n",
            "dropout_6 (Dropout)          (None, 7, 7, 10)          0         \n",
            "_________________________________________________________________\n",
            "conv2d_7 (Conv2D)            (None, 1, 1, 10)          4910      \n",
            "_________________________________________________________________\n",
            "flatten (Flatten)            (None, 10)                0         \n",
            "_________________________________________________________________\n",
            "activation (Activation)      (None, 10)                0         \n",
            "=================================================================\n",
            "Total params: 13,278\n",
            "Trainable params: 13,090\n",
            "Non-trainable params: 188\n",
            "_________________________________________________________________\n"
          ],
          "name": "stdout"
        }
      ]
    },
    {
      "cell_type": "code",
      "metadata": {
        "id": "2HkvdGgYkGRG",
        "colab_type": "code",
        "colab": {
          "base_uri": "https://localhost:8080/",
          "height": 745
        },
        "outputId": "64963bad-bafd-49df-82e3-87b6abc739d8"
      },
      "source": [
        "history = model.fit(x_train, \n",
        "\t\t                y_train,\n",
        "                    epochs=10,\n",
        "                    validation_data=(x_test, y_test),\n",
        "                    steps_per_epoch=50,\n",
        "#                    validation_steps=1,\n",
        "                    verbose=1\n",
        "                    )\n",
        "\n",
        "model.save_weights('./mnist_model.h5', overwrite=True)"
      ],
      "execution_count": 8,
      "outputs": [
        {
          "output_type": "stream",
          "text": [
            "Epoch 1/10\n",
            "9/9 [==============================] - 26s 3s/step\n",
            "9/9 [==============================] - 26s 3s/step\n",
            "50/50 [==============================] - 49s 985ms/step - loss: 0.0251 - acc: 0.9920 - val_loss: 0.0207 - val_acc: 0.9931\n",
            "Epoch 2/10\n",
            "9/9 [==============================] - 27s 3s/step\n",
            "9/9 [==============================] - 27s 3s/step\n",
            "50/50 [==============================] - 45s 896ms/step - loss: 0.0230 - acc: 0.9925 - val_loss: 0.0225 - val_acc: 0.9919\n",
            "Epoch 3/10\n",
            "9/9 [==============================] - 28s 3s/step\n",
            "9/9 [==============================] - 28s 3s/step\n",
            "50/50 [==============================] - 46s 923ms/step - loss: 0.0250 - acc: 0.9915 - val_loss: 0.0190 - val_acc: 0.9932\n",
            "Epoch 4/10\n",
            "9/9 [==============================] - 28s 3s/step\n",
            "9/9 [==============================] - 28s 3s/step\n",
            "50/50 [==============================] - 47s 943ms/step - loss: 0.0234 - acc: 0.9922 - val_loss: 0.0205 - val_acc: 0.9929\n",
            "Epoch 5/10\n",
            "9/9 [==============================] - 28s 3s/step\n",
            "9/9 [==============================] - 28s 3s/step\n",
            "50/50 [==============================] - 49s 984ms/step - loss: 0.0248 - acc: 0.9919 - val_loss: 0.0222 - val_acc: 0.9921\n",
            "Epoch 6/10\n",
            "9/9 [==============================] - 29s 3s/step\n",
            "9/9 [==============================] - 29s 3s/step\n",
            "50/50 [==============================] - 49s 985ms/step - loss: 0.0253 - acc: 0.9918 - val_loss: 0.0218 - val_acc: 0.9929\n",
            "Epoch 7/10\n",
            "9/9 [==============================] - 35s 4s/step\n",
            "9/9 [==============================] - 35s 4s/step\n",
            "50/50 [==============================] - 56s 1s/step - loss: 0.0238 - acc: 0.9922 - val_loss: 0.0194 - val_acc: 0.9937\n",
            "Epoch 8/10\n",
            "9/9 [==============================] - 36s 4s/step\n",
            "9/9 [==============================] - 36s 4s/step\n",
            "50/50 [==============================] - 59s 1s/step - loss: 0.0224 - acc: 0.9927 - val_loss: 0.0204 - val_acc: 0.9935\n",
            "Epoch 9/10\n",
            "9/9 [==============================] - 33s 4s/step\n",
            "9/9 [==============================] - 33s 4s/step\n",
            "50/50 [==============================] - 56s 1s/step - loss: 0.0220 - acc: 0.9926 - val_loss: 0.0221 - val_acc: 0.9923\n",
            "Epoch 10/10\n",
            "9/9 [==============================] - 36s 4s/step\n",
            "9/9 [==============================] - 36s 4s/step\n",
            "50/50 [==============================] - 59s 1s/step - loss: 0.0231 - acc: 0.9923 - val_loss: 0.0214 - val_acc: 0.9920\n"
          ],
          "name": "stdout"
        }
      ]
    }
  ]
}